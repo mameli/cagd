{
 "cells": [
  {
   "cell_type": "code",
   "execution_count": 4,
   "metadata": {},
   "outputs": [
    {
     "name": "stdout",
     "output_type": "stream",
     "text": [
      "  logical\n",
      "\n",
      "   1\n",
      "\n",
      "  logical\n",
      "\n",
      "   1\n",
      "\n",
      "  logical\n",
      "\n",
      "   1\n",
      "\n",
      "  logical\n",
      "\n",
      "   1\n",
      "\n",
      "  logical\n",
      "\n",
      "   1\n",
      "\n"
     ]
    },
    {
     "data": {
      "image/png": "[encoded data removed]",
      "text/plain": [
       "<IPython.core.display.Image object>"
      ]
     },
     "metadata": {},
     "output_type": "display_data"
    }
   ],
   "source": [
    "clear;\n",
    "a = 0; b = 5; n = 3; u_star = 2;\n",
    "precision = 0.0001;\n",
    "u = a:precision:b;\n",
    "u_1 = a:precision:u_star;\n",
    "u_2 = u_star:precision:b;\n",
    "r_u = (u-a)./(b-a);\n",
    "r_u_1 = (u_1-a)./(b-a);\n",
    "r_u_2 = (u_2-a)./(b-a);\n",
    "r_u_star = (u_star - a) / (b - a); \n",
    "\n",
    "x_p = [0, 2, 3, 5];\n",
    "y_p = [0, 2, 1, 3];\n",
    "\n",
    "[m_x, m_y] = de_casteljau(n, x_p, y_p, r_u_star);\n",
    "c1_x = diag(m_x)';\n",
    "c1_y = diag(m_y)';\n",
    "c2_x = m_x(n+1, :);\n",
    "c2_y = m_y(n+1, :);\n",
    "p_x = zeros(1, length(u));\n",
    "p_y = zeros(1, length(u));\n",
    "p1_x = zeros(1, length(u_1));\n",
    "p1_y = zeros(1, length(u_1));\n",
    "p2_x = zeros(1, length(u_2));\n",
    "p2_y = zeros(1, length(u_2));\n",
    "for i = 1:length(u)\n",
    "    [t_x, t_y] = de_casteljau(n, x_p, y_p, r_u(i)); %original bezier curve\n",
    "    p_x(i) = t_x(n+1, n+1); \n",
    "    p_y(i) = t_y(n+1, n+1);\n",
    "end\n",
    "for i = 1:length(u_1)\n",
    "    %first piece of splitted bezier curve\n",
    "    new_u = r_u_1(i)/r_u_star;\n",
    "    [t_x, t_y] = de_casteljau(n, c1_x, c1_y, new_u); \n",
    "    p1_x(i) = t_x(n+1, n+1); \n",
    "    p1_y(i) = t_y(n+1, n+1);\n",
    "end\n",
    "for i = 1:length(u_2)\n",
    "    %second piece of splitted bezier curve\n",
    "    new_u = (r_u_2(i)-r_u_star)/(1-r_u_star);\n",
    "    [t_x, t_y] = de_casteljau(n, c2_x, c2_y, new_u); \n",
    "    p2_x(i) = t_x(n+1, n+1); \n",
    "    p2_y(i) = t_y(n+1, n+1);\n",
    "end\n",
    "%plot(p_x, p_y, 'b', 'linewidth', 2); hold on; %original curve\n",
    "plot(c1_x, c1_y, '-rd', 'MarkerSize',6); hold on; %points of first curve\n",
    "plot(c2_x, c2_y, '-gd', 'MarkerSize',6); hold on; %points of second curve\n",
    "plot(x_p, y_p, '-O'); hold on; % original points\n",
    "plot(p1_x, p1_y, 'r', 'linewidth', 2.5); hold on; % first curve\n",
    "plot(p2_x, p2_y, 'g', 'linewidth', 2.5); hold on; % second curve\n",
    "display(and( c1_x(end) == c2_x(end), c1_y(end) == c2_y(end) )) %c0 continuity\n",
    "h1 = (u_star-a);\n",
    "h2 = (b-u_star);\n",
    "display( c1_x(end) == ((h1 / (h1+h2))*c2_x(end-1)) + ((h2 / (h1+h2))*c1_x(end-1))) ; %c1 continuity \n",
    "display( c1_y(end) == ((h1 / (h1+h2))*c2_y(end-1)) + ((h2 / (h1+h2))*c1_y(end-1))) ; %c1 continuity\n",
    "first_continuity_c2x = (c1_x(end-1)+((h2/h1)*(c1_x(end-1)-c1_x(end-2))));\n",
    "second_continuity_c2x = (c2_x(end-1)+((h1/h2)*(c2_x(end-1)-c2_x(end-2))));\n",
    "display( first_continuity_c2x == second_continuity_c2x);\n",
    "first_continuity_c2y = (c1_y(end-1)+((h2/h1)*(c1_y(end-1)-c1_y(end-2))));\n",
    "second_continuity_c2y = (c2_y(end-1)+((h1/h2)*(c2_y(end-1)-c2_y(end-2))));\n",
    "display( eq(first_continuity_c2y,second_continuity_c2y)); %restituisce 0, ma sono uguali LOL"
   ]
  },
  {
   "cell_type": "code",
   "execution_count": null,
   "metadata": {},
   "outputs": [],
   "source": []
  }
 ],
 "metadata": {
  "kernelspec": {
   "display_name": "Matlab",
   "language": "matlab",
   "name": "matlab"
  },
  "language_info": {
   "codemirror_mode": "octave",
   "file_extension": ".m",
   "help_links": [
    {
     "text": "MetaKernel Magics",
     "url": "https://github.com/calysto/metakernel/blob/master/metakernel/magics/README.md"
    }
   ],
   "mimetype": "text/x-octave",
   "name": "matlab",
   "version": "0.16.1"
  }
 },
 "nbformat": 4,
 "nbformat_minor": 2
}
